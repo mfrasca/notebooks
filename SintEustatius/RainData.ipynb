{
 "cells": [
  {
   "cell_type": "markdown",
   "metadata": {
    "ein.tags": "worksheet-0",
    "slideshow": {
     "slide_type": "-"
    }
   },
   "source": [
    "# Rain on Sint Eustatius"
   ]
  },
  {
   "cell_type": "markdown",
   "metadata": {
    "ein.tags": "worksheet-0",
    "slideshow": {
     "slide_type": "-"
    }
   },
   "source": [
    "this is my first attempt at doing something with jupyter notebooks.  I'm not\n",
    "so sure what would be useful, or interesting, so I'm just experimenting with\n",
    "data from a weather station in Pleasures, Sint Eustatius.\n",
    "\n",
    "this notebook shows individual rain readings as bars, and a running sum over\n",
    "a period of seven days.  as you can see, there is hardly any yearly pattern\n",
    "in rainfall on the island.  very roughly, the months February to May are the\n",
    "driest, and the months in the hurricane season are the ones with most chance\n",
    "of rain.  but during a year hurricanes can just completely miss the island,\n",
    "and in an other year you can have an active rain cell hitting the island in\n",
    "a supposedly dry month.\n",
    "\n",
    "it is a very difficult place for doing any agriculture!"
   ]
  },
  {
   "cell_type": "code",
   "execution_count": null,
   "metadata": {
    "autoscroll": false,
    "collapsed": false,
    "ein.hycell": false,
    "ein.tags": "worksheet-0",
    "slideshow": {
     "slide_type": "-"
    }
   },
   "outputs": [],
   "source": [
    "import numpy as np\n",
    "import pandas as pd\n",
    "%matplotlib inline\n",
    "import matplotlib.pyplot as plt\n",
    "import seaborn; seaborn.set() # Plot styling\n",
    "from pandas.plotting import register_matplotlib_converters\n",
    "register_matplotlib_converters()\n"
   ]
  },
  {
   "cell_type": "code",
   "execution_count": null,
   "metadata": {
    "autoscroll": false,
    "collapsed": false,
    "ein.hycell": false,
    "ein.tags": "worksheet-0",
    "slideshow": {
     "slide_type": "-"
    }
   },
   "outputs": [],
   "source": [
    "def plot_year(year):\n",
    "    '''use the global timestamped_data to plot a year\n",
    "\n",
    "    return the last value of the 7 days running sum, and the yearly data.\n",
    "    '''\n",
    "\n",
    "    date_range = pd.date_range(pd.to_datetime(\"%s\" % year), \"%s-12-31\" % year)\n",
    "    data = pd.DataFrame(index=date_range)\n",
    "    # populate it with the relevant data\n",
    "    data['mm'] = timestamped_data.mm[(timestamped_data.index >= date_range[0]) &\n",
    "                                     (timestamped_data.index <= date_range[-1])]\n",
    "    data['7d'] = timestamped_data['7d'][(timestamped_data.index >= date_range[0]) &\n",
    "                                        (timestamped_data.index <= date_range[-1])]\n",
    "    data['4w'] = timestamped_data['4w'][(timestamped_data.index >= date_range[0]) &\n",
    "                                        (timestamped_data.index <= date_range[-1])]\n",
    "\n",
    "    # for reference, print the yearly sum\n",
    "    print('rain this year: %0.1fmm' % data['mm'].sum())\n",
    "    print('rain up to July 1st: %0.1fmm' % data['mm'][:-184].sum())\n",
    "\n",
    "    # prepare the plotting area\n",
    "    plt.figure(figsize=(18, 4))\n",
    "\n",
    "    # plot the daily readings\n",
    "    plt.bar(data.index, data.mm, width=1.2)\n",
    "\n",
    "    plt.plot(data['7d'])\n",
    "    plt.plot(data['4w'])\n",
    "\n",
    "    # define a uniform top and bottom for the cumulative rain\n",
    "    plt.ylim(top = 350, bottom = 0)"
   ]
  },
  {
   "cell_type": "code",
   "execution_count": null,
   "metadata": {
    "autoscroll": false,
    "collapsed": false,
    "ein.hycell": false,
    "ein.tags": "worksheet-0",
    "slideshow": {
     "slide_type": "-"
    }
   },
   "outputs": [],
   "source": [
    "# read data with gaps\n",
    "timestamped_data = pd.read_csv('raindata-day.csv', comment='#',\n",
    "                               index_col='date', parse_dates=True, dayfirst=True)\n",
    "\n",
    "# put data into gapless data frame\n",
    "data = pd.DataFrame(index=pd.date_range(\"2006\", \"2018-12-31\"))\n",
    "data['mm'] = timestamped_data['mm']\n",
    "\n",
    "# fill in the gaps with zeroes\n",
    "data['mm'].fillna(0, inplace=True)\n",
    "\n",
    "# calculate rolling sums\n",
    "data['7d'] = data.mm.rolling(7).sum()\n",
    "data['4w'] = data.mm.rolling(28).sum()\n",
    "\n",
    "# replace global data frame\n",
    "timestamped_data = data"
   ]
  },
  {
   "cell_type": "code",
   "execution_count": null,
   "metadata": {
    "autoscroll": false,
    "collapsed": false,
    "ein.hycell": false,
    "ein.tags": "worksheet-0",
    "slideshow": {
     "slide_type": "-"
    }
   },
   "outputs": [],
   "source": [
    "plot_year(2006);"
   ]
  },
  {
   "cell_type": "code",
   "execution_count": null,
   "metadata": {
    "autoscroll": false,
    "collapsed": false,
    "ein.hycell": false,
    "ein.tags": "worksheet-0",
    "slideshow": {
     "slide_type": "-"
    }
   },
   "outputs": [],
   "source": [
    "plot_year(2007);"
   ]
  },
  {
   "cell_type": "code",
   "execution_count": null,
   "metadata": {
    "autoscroll": false,
    "collapsed": false,
    "ein.hycell": false,
    "ein.tags": "worksheet-0",
    "slideshow": {
     "slide_type": "-"
    }
   },
   "outputs": [],
   "source": [
    "plot_year(2008);"
   ]
  },
  {
   "cell_type": "code",
   "execution_count": null,
   "metadata": {
    "autoscroll": false,
    "collapsed": false,
    "ein.hycell": false,
    "ein.tags": "worksheet-0",
    "slideshow": {
     "slide_type": "-"
    }
   },
   "outputs": [],
   "source": [
    "plot_year(2009);"
   ]
  },
  {
   "cell_type": "code",
   "execution_count": null,
   "metadata": {
    "autoscroll": false,
    "collapsed": false,
    "ein.hycell": false,
    "ein.tags": "worksheet-0",
    "slideshow": {
     "slide_type": "-"
    }
   },
   "outputs": [],
   "source": [
    "plot_year(2010)"
   ]
  },
  {
   "cell_type": "code",
   "execution_count": null,
   "metadata": {
    "autoscroll": false,
    "collapsed": false,
    "ein.hycell": false,
    "ein.tags": "worksheet-0",
    "slideshow": {
     "slide_type": "-"
    }
   },
   "outputs": [],
   "source": [
    "plot_year(2011)"
   ]
  },
  {
   "cell_type": "code",
   "execution_count": null,
   "metadata": {
    "autoscroll": false,
    "collapsed": false,
    "ein.hycell": false,
    "ein.tags": "worksheet-0",
    "slideshow": {
     "slide_type": "-"
    }
   },
   "outputs": [],
   "source": [
    "plot_year(2012)"
   ]
  },
  {
   "cell_type": "code",
   "execution_count": null,
   "metadata": {
    "autoscroll": false,
    "collapsed": false,
    "ein.hycell": false,
    "ein.tags": "worksheet-0",
    "slideshow": {
     "slide_type": "-"
    }
   },
   "outputs": [],
   "source": [
    "plot_year(2013)"
   ]
  },
  {
   "cell_type": "code",
   "execution_count": null,
   "metadata": {
    "autoscroll": false,
    "collapsed": false,
    "ein.hycell": false,
    "ein.tags": "worksheet-0",
    "slideshow": {
     "slide_type": "-"
    }
   },
   "outputs": [],
   "source": [
    "plot_year(2014)"
   ]
  },
  {
   "cell_type": "code",
   "execution_count": null,
   "metadata": {
    "autoscroll": false,
    "collapsed": false,
    "ein.hycell": false,
    "ein.tags": "worksheet-0",
    "slideshow": {
     "slide_type": "-"
    }
   },
   "outputs": [],
   "source": [
    "plot_year(2015)"
   ]
  },
  {
   "cell_type": "code",
   "execution_count": null,
   "metadata": {
    "autoscroll": false,
    "collapsed": false,
    "ein.hycell": false,
    "ein.tags": "worksheet-0",
    "slideshow": {
     "slide_type": "-"
    }
   },
   "outputs": [],
   "source": [
    "plot_year(2016)"
   ]
  },
  {
   "cell_type": "code",
   "execution_count": null,
   "metadata": {
    "autoscroll": false,
    "collapsed": false,
    "ein.hycell": false,
    "ein.tags": "worksheet-0",
    "slideshow": {
     "slide_type": "-"
    }
   },
   "outputs": [],
   "source": [
    "plot_year(2017)"
   ]
  },
  {
   "cell_type": "code",
   "execution_count": null,
   "metadata": {
    "autoscroll": false,
    "collapsed": false,
    "ein.hycell": false,
    "ein.tags": "worksheet-0",
    "slideshow": {
     "slide_type": "-"
    }
   },
   "outputs": [],
   "source": [
    "plot_year(2018)"
   ]
  },
  {
   "cell_type": "markdown",
   "metadata": {
    "ein.tags": "worksheet-0",
    "slideshow": {
     "slide_type": "-"
    }
   },
   "source": [
    "# missing historic context\n",
    "\n",
    "in the XVIII century, the island had a quite effective water collecting\n",
    "installation, still in place, still mostly working.  the collected water\n",
    "served the now not any more existing lower town, which was a thriving\n",
    "commercial center in the Caribbean.\n",
    "\n",
    "the current population is a fraction of what it used to be in the XVIII\n",
    "century, but it has a larger water demand, and it is mostly located higher\n",
    "than the old water storage.\n",
    "\n",
    "the above graphs, and this closing consideration may let you imagine their\n",
    "difficult situation."
   ]
  },
  {
   "cell_type": "code",
   "execution_count": null,
   "metadata": {
    "autoscroll": false,
    "collapsed": false,
    "ein.hycell": false,
    "ein.tags": "worksheet-0",
    "slideshow": {
     "slide_type": "-"
    }
   },
   "outputs": [],
   "source": []
  }
 ],
 "metadata": {
  "kernelspec": {
   "display_name": "Python 3",
   "name": "python3"
  },
  "language_info": {
   "codemirror_mode": {
    "name": "ipython",
    "version": 3
   },
   "file_extension": ".py",
   "mimetype": "text/x-python",
   "name": "python",
   "nbconvert_exporter": "python",
   "pygments_lexer": "ipython3",
   "version": "3.5.3"
  },
  "name": "RainData.ipynb"
 },
 "nbformat": 4,
 "nbformat_minor": 2
}
