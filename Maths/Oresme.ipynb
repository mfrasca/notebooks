{
 "cells": [
  {
   "cell_type": "markdown",
   "metadata": {
    "ein.tags": "worksheet-0",
    "slideshow": {
     "slide_type": "-"
    }
   },
   "source": [
    "# Nicola d'Oresme e la serie armonica"
   ]
  },
  {
   "cell_type": "markdown",
   "metadata": {
    "ein.tags": "worksheet-0",
    "slideshow": {
     "slide_type": "-"
    }
   },
   "source": [
    "## premessa"
   ]
  },
  {
   "cell_type": "markdown",
   "metadata": {
    "ein.tags": "worksheet-0",
    "slideshow": {
     "slide_type": "-"
    }
   },
   "source": [
    "Nicola d'Oresme, abate normanno vissuto fra il 1325 e il 1382, si pose il\n",
    "problema se sommando tutte le frazioni unitarie, ½, ⅓, ¼, ⅕, ⅙, ⅐, eccetera\n",
    "all'infinito, si resta sotto una soglia magari non nota, oppure se per\n",
    "quanto alta si ponga la soglia, c'è sempre modo di accumulare abbastanza\n",
    "frazioni unitarie da sorpassare la soglia.\n",
    "\n",
    "Detto in termini moderni, Nicola d'Oresme si era posto il problema di capire se la serie\n",
    "armonica converge o diverge.\n",
    "\n",
    "Si disse l'abate d'Oresme: tutte queste frazioni unitarie, invece di sommarle ad una ad una\n",
    "che non ci si capisce niente, vediamo di raggrupparle, e pensò di\n",
    "raggrupparle tagliando la sommatoria, infinita, in corrispondenza di ogni\n",
    "frazione con denominatore una potenza di 2, cioè ½, ¼, ⅛, 1/16, 1/32\n",
    "eccetera.\n",
    "\n",
    "il primo gruppo è semplicemente ½, che appunto vale ½.  mettilo da parte, e\n",
    "continuiamo.\n",
    "\n",
    "secondo gruppo: ⅓+¼, sono 2 elementi, e il più piccolo è l'ultimo, ¼.\n",
    "quindi 2 elementi maggiori di ¼ (la potenza di 2 dove ci siamo fermati), e\n",
    "fa di nuovo ½, o più esattamente fa più di ½.  mettilo da parte in un'altra\n",
    "scatola e continuiamo.\n",
    "\n",
    "terzo gruppo: ⅕, ⅙, ⅐, ⅛; 4 elementi; \n",
    "il più piccolo, l'ultimo: ⅛;\n",
    "la somma è almeno, di nuovo, ½.\n",
    "\n",
    "ad ogni gruppo raddoppi il numero di addendi e dimmezzi il valore del più piccolo del gruppo.\n",
    "\n",
    "cioè ogni gruppo vale almeno ½.\n",
    "\n",
    "ci sono infiniti gruppi da sommare, quindi la somma cresce a dismisura."
   ]
  },
  {
   "cell_type": "markdown",
   "metadata": {
    "ein.tags": "worksheet-0",
    "slideshow": {
     "slide_type": "-"
    }
   },
   "source": [
    "## ma tutte queste scatole?"
   ]
  },
  {
   "cell_type": "markdown",
   "metadata": {
    "ein.tags": "worksheet-0",
    "slideshow": {
     "slide_type": "-"
    }
   },
   "source": [
    "direi che ora la domanda si pone spontanea, e se non vi si pone andate a\n",
    "leggervi Harry Potter, altrimenti la domanda che si pone spontanea è: sì, ma\n",
    "tutti questi blocchi che sono ad uno ad uno maggiori o uguali di ½, sono\n",
    "pure minori o uguali di qualche altra cosa?  e quanto è, al minimo, questa\n",
    "altra cosa?\n",
    "\n",
    "La risposta alla prima parte è \"sì, certamente!\", mentre con l'aiuto del calcolo\n",
    "infinitesimale si dimostra che il valore che risponde alla seconda parte è\n",
    "$\\log_e 2$.  Però possiamo dare una risposta altrettanto precisa anche senza\n",
    "calcolo infinitesimale, se ci si accontenta di chiamare $\\log_e 2$ in un\n",
    "modo un po' più lungo: “l'area del piano cartesiano con $1<x<2$ e con\n",
    "$0<y<\\frac1x$”."
   ]
  },
  {
   "cell_type": "code",
   "execution_count": 1,
   "metadata": {
    "autoscroll": false,
    "collapsed": false,
    "ein.hycell": false,
    "ein.tags": "worksheet-0",
    "slideshow": {
     "slide_type": "-"
    }
   },
   "outputs": [],
   "source": [
    "import numpy as np\n",
    "import pandas as pd\n",
    "%matplotlib inline\n",
    "import matplotlib.pyplot as plt"
   ]
  },
  {
   "cell_type": "code",
   "execution_count": 2,
   "metadata": {
    "autoscroll": false,
    "collapsed": false,
    "ein.hycell": false,
    "ein.tags": "worksheet-0",
    "slideshow": {
     "slide_type": "-"
    }
   },
   "outputs": [],
   "source": [
    "import ipywidgets"
   ]
  },
  {
   "cell_type": "code",
   "execution_count": 5,
   "metadata": {
    "autoscroll": false,
    "collapsed": false,
    "ein.hycell": false,
    "ein.tags": "worksheet-0",
    "slideshow": {
     "slide_type": "-"
    }
   },
   "outputs": [
    {
     "data": {
      "application/vnd.jupyter.widget-view+json": {
       "model_id": "e901dd5af3444241b44f8fc912602f89",
       "version_major": 2,
       "version_minor": 0
      },
      "text/plain": [
       "interactive(children=(IntSlider(value=5, description='N', max=10), Output()), _dom_classes=('widget-interact',…"
      ]
     },
     "metadata": {},
     "output_type": "display_data"
    }
   ],
   "source": [
    "def plot_steps(N):\n",
    "    N = 2 ** N + 1\n",
    "    plt.figure(figsize=(8, 5))\n",
    "    x = np.linspace(1, 2, N)[1:]\n",
    "    plt.bar(x-1/(N-1), 1/x, align='edge', width=1/(N-1))\n",
    "    x = np.linspace(1, 2, 100)\n",
    "    plt.plot(x, 1/x, 1, 0)\n",
    "    plt.show()\n",
    "ipywidgets.interact(plot_steps, N=(0, 10, 1));"
   ]
  },
  {
   "cell_type": "markdown",
   "metadata": {
    "autoscroll": false,
    "ein.hycell": false,
    "ein.tags": "worksheet-0",
    "slideshow": {
     "slide_type": "-"
    }
   },
   "source": [
    "i blocchi qui nel grafico sono, da sinistra verso destra, gli addendi di ciascuno dei blocchi di Oresme, e portate pazienza se li conto iniziando da $0$.\n",
    "\n",
    "Per $N=0$, il primo blocco, c'è un solo addendo che vale ½.  Rappresentiamolo come un rettangolo ampio 1 ed alto ½.\n",
    "\n",
    "Per $N=1$, le due frazioni unitarie da includere sono ⅓ e ¼.  Le accomodiamo in due rettangoli ampi ½, il primo alto ⅔ (che per \"semplicità\" scriviamo come 1/1.5), il secondo alto ½.\n",
    "\n",
    "per $N=2$ ce ne sono 4 di frazioni unitarie da rappresentare: ⅕, ⅙, ⅐, ⅛.  per tenere queste aree ancora in un poligono ampio 1, disegnamo 4 rettangoli tutti ampi ¼, ed alti rispettivamente 4×⅕, 4×⅙, 4×⅐, 4×⅛.  Il lettore con un minimo di attenzione, che non stia pensando ad Harry Potter, può verificare che questi numeri sono, per $i=1…4$: $1/(1+i/4)$, che l'ultimo è ancora ½, e che più in generale questa lista di numeri include, nelle posizioni pari, i numeri della lista precedente.\n",
    "\n",
    "Generalizzando per ogni $N$, ciascun blocco di Oresme, che è formato da $2^N$ frazioni unitarie, può essere visualizzato con la giustapposizione di $2^N$ rettangoli, tutti ampi $\\frac1{2^N}$, di cui l'ultimo in particolare è alto ½, ma in generale ciascuno nell'ordine è alto $1/(1 + i/2^N)$, con i compreso fra $1$ e $2^N$.\n",
    "\n",
    "confrontare quanto detto con il grafico proposto e convincersi che al crescere di $N$ si resta sotto la linea della $y=\\frac1x$.  quindi che ogni blocco di Oresme è limitato dall'area del quadrilatero curvilineo annunciato sopra."
   ]
  },
  {
   "cell_type": "code",
   "execution_count": null,
   "metadata": {
    "autoscroll": false,
    "collapsed": false,
    "ein.hycell": false,
    "ein.tags": "worksheet-0",
    "slideshow": {
     "slide_type": "-"
    }
   },
   "outputs": [],
   "source": []
  }
 ],
 "metadata": {
  "kernelspec": {
   "display_name": "Python 3",
   "name": "python3"
  },
  "language_info": {
   "codemirror_mode": {
    "name": "ipython",
    "version": 3
   },
   "file_extension": ".py",
   "mimetype": "text/x-python",
   "name": "python",
   "nbconvert_exporter": "python",
   "pygments_lexer": "ipython3",
   "version": "3.5.3"
  },
  "name": "Oresme.ipynb"
 },
 "nbformat": 4,
 "nbformat_minor": 2
}
