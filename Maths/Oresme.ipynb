{
 "cells": [
  {
   "cell_type": "markdown",
   "metadata": {
    "ein.tags": "worksheet-0",
    "slideshow": {
     "slide_type": "-"
    }
   },
   "source": [
    "# Nicola d'Oresme e la serie armonica"
   ]
  },
  {
   "cell_type": "markdown",
   "metadata": {
    "ein.tags": "worksheet-0",
    "slideshow": {
     "slide_type": "-"
    }
   },
   "source": [
    "## premessa"
   ]
  },
  {
   "cell_type": "markdown",
   "metadata": {
    "ein.tags": "worksheet-0",
    "slideshow": {
     "slide_type": "-"
    }
   },
   "source": [
    "Nicola d'Oresme, abate normanno vissuto fra il 1325 e il 1382, si pose il\n",
    "problema se sommando tutte le frazioni unitarie, ½, ⅓, ¼, ⅕, ⅙, ⅐, eccetera\n",
    "all'infinito, si resta sotto una soglia magari non nota, oppure se per\n",
    "quanto alta si ponga la soglia, c'è sempre modo di accumulare abbastanza\n",
    "frazioni unitarie da sorpassare la soglia."
   ]
  },
  {
   "cell_type": "markdown",
   "metadata": {
    "ein.tags": "worksheet-0",
    "slideshow": {
     "slide_type": "-"
    }
   },
   "source": [
    "detto in termini moderni, si era posto il problema di capire se la serie\n",
    "armonica converge o diverge."
   ]
  },
  {
   "cell_type": "markdown",
   "metadata": {
    "ein.tags": "worksheet-0",
    "slideshow": {
     "slide_type": "-"
    }
   },
   "source": [
    "non è intuitivo, ed assomiglia alla serie geometrica di ragione ½ che\n",
    "converge ed ha limite 1."
   ]
  },
  {
   "cell_type": "markdown",
   "metadata": {
    "ein.tags": "worksheet-0",
    "slideshow": {
     "slide_type": "-"
    }
   },
   "source": [
    "s'è detto, tutte queste frazioni unitarie, invece di sommarle ad una ad una\n",
    "che non ci si capisce niente, vediamo di raggrupparle, ed ha pensato di\n",
    "raggrupparle tagliando la sommatoria, infinita, in corrispondenza di ogni\n",
    "frazione con denominatore una potenza di 2, cioè ½, ¼, ⅛, 1/16, 1/32\n",
    "eccetera."
   ]
  },
  {
   "cell_type": "markdown",
   "metadata": {
    "ein.tags": "worksheet-0",
    "slideshow": {
     "slide_type": "-"
    }
   },
   "source": [
    "il primo gruppo è semplicemente ½, che appunto vale ½.  mettilo da parte, e\n",
    "continuiamo."
   ]
  },
  {
   "cell_type": "markdown",
   "metadata": {
    "ein.tags": "worksheet-0",
    "slideshow": {
     "slide_type": "-"
    }
   },
   "source": [
    "secondo gruppo: ⅓+¼, sono 2 elementi, e il più piccolo è l'ultimo, ¼.\n",
    "quindi 2 elementi maggiori di ¼ (la potenza di 2 dove ci siamo fermati), e\n",
    "fa di nuovo ½, o più esattamente fa più di ½.  mettilo da parte in un'altra\n",
    "scatola e continuiamo."
   ]
  },
  {
   "cell_type": "markdown",
   "metadata": {
    "ein.tags": "worksheet-0",
    "slideshow": {
     "slide_type": "-"
    }
   },
   "source": [
    "terzo gruppo: ⅕, ⅙, ⅐, ⅛; 4 elementi; \n",
    "il più piccolo, l'ultimo: ⅛;\n",
    "la somma è almeno, di nuovo, ½."
   ]
  },
  {
   "cell_type": "markdown",
   "metadata": {
    "ein.tags": "worksheet-0",
    "slideshow": {
     "slide_type": "-"
    }
   },
   "source": [
    "ad ogni gruppo raddoppi il numero di addendi e dimmezzi il valore del più piccolo del gruppo."
   ]
  },
  {
   "cell_type": "markdown",
   "metadata": {
    "ein.tags": "worksheet-0",
    "slideshow": {
     "slide_type": "-"
    }
   },
   "source": [
    "cioè ogni gruppo vale almeno ½."
   ]
  },
  {
   "cell_type": "markdown",
   "metadata": {
    "ein.tags": "worksheet-0",
    "slideshow": {
     "slide_type": "-"
    }
   },
   "source": [
    "ci sono infiniti gruppi da sommare, quindi la somma cresce a dismisura."
   ]
  },
  {
   "cell_type": "markdown",
   "metadata": {
    "ein.tags": "worksheet-0",
    "slideshow": {
     "slide_type": "-"
    }
   },
   "source": [
    "## ma tutte queste scatole?"
   ]
  },
  {
   "cell_type": "markdown",
   "metadata": {
    "ein.tags": "worksheet-0",
    "slideshow": {
     "slide_type": "-"
    }
   },
   "source": [
    "direi che ora la domanda si pone spontanea, e se non vi si pone andate a\n",
    "leggervi Harry Potter, altrimenti la domanda che si pone spontanea è: ma\n",
    "tutti questi blocchi che sono ad uno ad uno maggiori o uguali di ½, sono\n",
    "pure minori o uguali di qualche altra cosa?  e quanto è, al minimo, questa\n",
    "altra cosa?"
   ]
  },
  {
   "cell_type": "markdown",
   "metadata": {
    "ein.tags": "worksheet-0",
    "slideshow": {
     "slide_type": "-"
    }
   },
   "source": [
    "la risposta alla prima parte è \"sì, certamente!\", e con l'aiuto del calcolo\n",
    "infinitesimale si dimostra che il valore che risponde alla seconda parte è\n",
    "$\\log_e 2$.  però possiamo dare una risposta altrettanto precisa anche senza\n",
    "calcolo infinitesimale, se ci si accontenta di chiamare $\\log_e 2$ in un\n",
    "modo un po' più lungo: \"l'area del piano cartesiano con $1<x<2$ e con\n",
    "$0<y<\\frac1x$\"."
   ]
  },
  {
   "cell_type": "code",
   "execution_count": 1,
   "metadata": {
    "autoscroll": false,
    "collapsed": false,
    "ein.hycell": false,
    "ein.tags": "worksheet-0",
    "slideshow": {
     "slide_type": "-"
    }
   },
   "outputs": [],
   "source": [
    "import numpy as np\n",
    "import pandas as pd\n",
    "%matplotlib inline\n",
    "import matplotlib.pyplot as plt"
   ]
  },
  {
   "cell_type": "code",
   "execution_count": 2,
   "metadata": {
    "autoscroll": false,
    "collapsed": false,
    "ein.hycell": false,
    "ein.tags": "worksheet-0",
    "slideshow": {
     "slide_type": "-"
    }
   },
   "outputs": [],
   "source": [
    "import ipywidgets"
   ]
  },
  {
   "cell_type": "code",
   "execution_count": 10,
   "metadata": {
    "autoscroll": false,
    "collapsed": false,
    "ein.hycell": false,
    "ein.tags": "worksheet-0",
    "slideshow": {
     "slide_type": "-"
    }
   },
   "outputs": [],
   "source": [
    "def plot_steps(N):\n",
    "    N = 2 ** (N-1) + 1\n",
    "    plt.figure(figsize=(8, 5))\n",
    "    x = np.linspace(1, 2, N)[1:]\n",
    "    plt.bar(x-1/(N-1), 1/x, align='edge', width=1/(N-1))\n",
    "    x = np.linspace(1, 2, 100)\n",
    "    plt.plot(x, 1/x, 1, 0)\n",
    "    plt.show()"
   ]
  },
  {
   "cell_type": "code",
   "execution_count": 11,
   "metadata": {
    "autoscroll": false,
    "collapsed": false,
    "ein.hycell": false,
    "ein.tags": "worksheet-0",
    "slideshow": {
     "slide_type": "-"
    }
   },
   "outputs": [
    {
     "data": {
      "application/vnd.jupyter.widget-view+json": {
       "model_id": "bdc67a170fa345a9859641edf00c8a8e",
       "version_major": 2,
       "version_minor": 0
      },
      "text/plain": [
       "interactive(children=(IntSlider(value=5, description='N', max=10, min=1), Output()), _dom_classes=('widget-int…"
      ]
     },
     "metadata": {},
     "output_type": "display_data"
    }
   ],
   "source": [
    "ipywidgets.interact(plot_steps, N=(1, 10, 1));"
   ]
  },
  {
   "cell_type": "code",
   "execution_count": null,
   "metadata": {
    "autoscroll": false,
    "collapsed": false,
    "ein.hycell": false,
    "ein.tags": "worksheet-0",
    "slideshow": {
     "slide_type": "-"
    }
   },
   "outputs": [],
   "source": []
  }
 ],
 "metadata": {
  "kernelspec": {
   "display_name": "Python 3",
   "name": "python3"
  },
  "language_info": {
   "codemirror_mode": {
    "name": "ipython",
    "version": 3
   },
   "file_extension": ".py",
   "mimetype": "text/x-python",
   "name": "python",
   "nbconvert_exporter": "python",
   "pygments_lexer": "ipython3",
   "version": "3.5.3"
  },
  "name": "Oresme.ipynb"
 },
 "nbformat": 4,
 "nbformat_minor": 2
}
